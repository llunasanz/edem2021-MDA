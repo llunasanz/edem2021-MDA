{
 "cells": [
  {
   "cell_type": "markdown",
   "id": "1c62f0e3",
   "metadata": {},
   "source": [
    "# Tarea 1"
   ]
  },
  {
   "cell_type": "code",
   "execution_count": 1,
   "id": "54fa7246",
   "metadata": {},
   "outputs": [],
   "source": [
    "import datetime as dt\n",
    "import matplotlib.pyplot as plt\n",
    "%matplotlib inline\n",
    "import missingno as msno\n",
    "import numpy as np\n",
    "import pandas as pd\n",
    "import seaborn as sns\n",
    "from scipy import stats\n",
    "from textwrap import wrap"
   ]
  },
  {
   "cell_type": "code",
   "execution_count": null,
   "id": "d2ca55fa",
   "metadata": {
    "scrolled": true
   },
   "outputs": [],
   "source": [
    "# Load dataset\n",
    "transaction_df = pd.read_excel('KPMG_VI_New_raw_data_update_final.xlsx', 'Transactions', skiprows=[0])\n",
    "# View data\n",
    "print(transaction_df.dtypes)\n",
    "transaction_df"
   ]
  },
  {
   "cell_type": "code",
   "execution_count": null,
   "id": "89588de1",
   "metadata": {
    "scrolled": false
   },
   "outputs": [],
   "source": [
    "# online_order se trata de una variable boobleana y, sin embargo, consta como float.\n",
    "# Se cambia el tipo de la columna\n",
    "transaction_df.online_order = transaction_df.online_order.astype('object')\n",
    "\n",
    "# Comprobar valores nulos en el dataset\n",
    "print(f\"Valores perdidos iniciales: {transaction_df.isnull().values.sum()}\")\n",
    "\n",
    "# Reemplazar huecos \" \" por NaN.\n",
    "transaction_df = transaction_df.replace(\" \",np.NaN)\n",
    "\n",
    "# # Reemplazar valores numéricos perdidos por el valor medio de la columna\n",
    "# transaction_df = transaction_df.fillna(transaction_df.mean(numeric_only=True))\n",
    "\n",
    "# Interpolar valores númericos perdidos\n",
    "lambda_col_nan = lambda column: column.interpolate() if column.dtypes == 'float64' else column\n",
    "transaction_df = transaction_df.apply(lambda_col_nan, axis=0)\n",
    "\n",
    "print(f\"Valores perdidos posteriores: {transaction_df.isnull().values.sum()}\")\n",
    "# Limpiar función lambda \"lambda_col_nan\"\n",
    "del lambda_col_nan"
   ]
  },
  {
   "cell_type": "code",
   "execution_count": null,
   "id": "4768d99d",
   "metadata": {
    "scrolled": true
   },
   "outputs": [],
   "source": [
    "# Reemplazar NaN de valores no númericos por los valores más comunes de la misma columna\n",
    "# lambda_col_nan = lambda column: column.fillna(column.value_counts().index[0]) if column.dtypes == 'object' else column\n",
    "# transaction_df = transaction_df.apply(lambda_col_nan, axis=0)\n",
    "\n",
    "# Eliminar valores categóricos perdidos\n",
    "transaction_df = transaction_df.dropna(axis=0)\n",
    "\n",
    "# Mostrar valores NaN\n",
    "print(f\"Valores NaN restantes: {transaction_df.isnull().values.sum()}\")"
   ]
  },
  {
   "cell_type": "code",
   "execution_count": null,
   "id": "15ca1e35",
   "metadata": {},
   "outputs": [],
   "source": [
    "# list(map(lambda x: transaction_df.loc[transaction_df['customer_id']==x]['customer_id'].shape[0], transaction_df['customer_id']))\n",
    "transaction_df"
   ]
  },
  {
   "cell_type": "code",
   "execution_count": null,
   "id": "8bf63b89",
   "metadata": {},
   "outputs": [],
   "source": [
    "# Añadir columna con el número total de productos comprados por cliente\n",
    "\n",
    "# transaction_df = transaction_df.sort_values(by=['customer_id'])\n",
    "transaction_df['prod_per_customer'] = list(map(lambda x: transaction_df.loc[transaction_df['customer_id']==x]['customer_id'].shape[0], transaction_df['customer_id']))"
   ]
  },
  {
   "cell_type": "markdown",
   "id": "afa2af15",
   "metadata": {},
   "source": [
    "Para el estudio:\n",
    "- Variables cuantitativas: list_price, prod_per_customer (creada)\n",
    "- Variables nominales: brand, product_line\n"
   ]
  },
  {
   "cell_type": "markdown",
   "id": "83766bdd",
   "metadata": {},
   "source": [
    "## Representación de las variables cuantitativas"
   ]
  },
  {
   "cell_type": "markdown",
   "id": "98ea763a",
   "metadata": {},
   "source": [
    "### list_price"
   ]
  },
  {
   "cell_type": "code",
   "execution_count": null,
   "id": "36b1698f",
   "metadata": {
    "scrolled": true
   },
   "outputs": [],
   "source": [
    "# Análisis de precio por compra\n",
    "transaction_df['list_price'].describe()"
   ]
  },
  {
   "cell_type": "code",
   "execution_count": null,
   "id": "6049f9ed",
   "metadata": {},
   "outputs": [],
   "source": [
    "stats.ttest_1samp(transaction_df.list_price, transaction_df.list_price.mean())"
   ]
  },
  {
   "cell_type": "code",
   "execution_count": null,
   "id": "b5dbc42f",
   "metadata": {},
   "outputs": [],
   "source": [
    "transaction_df.list_price"
   ]
  },
  {
   "cell_type": "code",
   "execution_count": null,
   "id": "41166487",
   "metadata": {
    "scrolled": true
   },
   "outputs": [],
   "source": [
    "sns.kdeplot(data=transaction_df, x=\"list_price\", bw_adjust = 1.7, cut = 0, palette=\"crest\")\n",
    "# Hay una superposición de 3 distribuciones"
   ]
  },
  {
   "cell_type": "code",
   "execution_count": null,
   "id": "e022086f",
   "metadata": {
    "scrolled": true
   },
   "outputs": [],
   "source": [
    "sns.kdeplot(data=transaction_df.loc[transaction_df[\"product_class\"]==\"high\"], x=\"list_price\", bw_adjust = 1.7, cut = 0, palette=\"crest\")\n",
    "sns.kdeplot(data=transaction_df.loc[transaction_df[\"product_class\"]==\"medium\"], x=\"list_price\", bw_adjust = 1.7, cut = 0, palette=\"crest\")\n",
    "sns.kdeplot(data=transaction_df.loc[transaction_df[\"product_class\"]==\"low\"], x=\"list_price\", bw_adjust = 1.7, cut = 0, palette=\"crest\")\n",
    "\n",
    "# No existe una relación entre el precio y la clase de producto. No son distribuciones normales. Puede tratarse de una influencia multivariable (por ejemplo, product_size)"
   ]
  },
  {
   "cell_type": "code",
   "execution_count": null,
   "id": "580e850b",
   "metadata": {},
   "outputs": [],
   "source": [
    "sns.kdeplot(data=transaction_df.loc[transaction_df[\"product_size\"]==\"large\"], x=\"list_price\", bw_adjust = 1.7, cut = 0, palette=\"crest\")\n",
    "sns.kdeplot(data=transaction_df.loc[transaction_df[\"product_size\"]==\"medium\"], x=\"list_price\", bw_adjust = 1.7, cut = 0, palette=\"crest\")\n",
    "sns.kdeplot(data=transaction_df.loc[transaction_df[\"product_size\"]==\"small\"], x=\"list_price\", bw_adjust = 1.7, cut = 0, palette=\"crest\")\n",
    "\n",
    "# Ninguna distribución es gausiana."
   ]
  },
  {
   "cell_type": "markdown",
   "id": "74a61872",
   "metadata": {},
   "source": [
    "### prod_per_customer"
   ]
  },
  {
   "cell_type": "code",
   "execution_count": null,
   "id": "0f215def",
   "metadata": {
    "scrolled": true
   },
   "outputs": [],
   "source": [
    "prod_cus = transaction_df[['customer_id', 'prod_per_customer']]\n",
    "prod_cus = prod_cus.sort_values(by=['customer_id'])\n",
    "prod_cus = prod_cus.drop_duplicates(subset=['customer_id'])"
   ]
  },
  {
   "cell_type": "code",
   "execution_count": null,
   "id": "05eb8bb9",
   "metadata": {
    "scrolled": true
   },
   "outputs": [],
   "source": [
    "prod_cus['prod_per_customer'].describe()"
   ]
  },
  {
   "cell_type": "code",
   "execution_count": null,
   "id": "a165ffcf",
   "metadata": {
    "scrolled": true
   },
   "outputs": [],
   "source": [
    "plt.hist(x=prod_cus['prod_per_customer'], density=True, bins=range(min(prod_cus['prod_per_customer']), max(prod_cus['prod_per_customer']) + 1))\n",
    "sns.kdeplot(x=prod_cus[\"prod_per_customer\"], bw_adjust = 1.7, cut = 0, palette=\"crest\")"
   ]
  },
  {
   "cell_type": "markdown",
   "id": "336b493c",
   "metadata": {},
   "source": [
    "## Representación de las variables cuantitativas"
   ]
  },
  {
   "cell_type": "markdown",
   "id": "847675e3",
   "metadata": {},
   "source": [
    "### brand"
   ]
  },
  {
   "cell_type": "code",
   "execution_count": null,
   "id": "a59c45ba",
   "metadata": {},
   "outputs": [],
   "source": [
    "plt.figure(figsize=(10, 4))\n",
    "sns.set_style(\"whitegrid\")\n",
    "ax1 = sns.boxplot(x = \"brand\", y = \"standard_cost\", data=transaction_df)"
   ]
  },
  {
   "cell_type": "code",
   "execution_count": null,
   "id": "ed775678",
   "metadata": {
    "scrolled": true
   },
   "outputs": [],
   "source": [
    "plt.figure(figsize=(10, 4))\n",
    "sns.set_style(\"whitegrid\")\n",
    "ax1 = sns.boxplot(x = \"brand\", y = \"standard_cost\", hue=\"product_class\", hue_order = ['low', 'medium', 'high'], data=transaction_df)"
   ]
  },
  {
   "cell_type": "code",
   "execution_count": null,
   "id": "18bf1596",
   "metadata": {},
   "outputs": [],
   "source": [
    "plt.figure(figsize=(10, 4))\n",
    "sns.set_style(\"whitegrid\")\n",
    "ax1 = sns.boxplot(x = \"brand\", y = \"standard_cost\", hue=\"product_size\", hue_order=['small', 'medium', 'large'], data=transaction_df)"
   ]
  },
  {
   "cell_type": "code",
   "execution_count": null,
   "id": "18c5a235",
   "metadata": {
    "scrolled": true
   },
   "outputs": [],
   "source": [
    "brand_df = pd.DataFrame()\n",
    "brand_df['frecuencia'] = transaction_df.brand.value_counts()\n",
    "brand_df['frecuencia_relativa'] = list(map(lambda x: brand_df[x] / brand_df['frecuencia'].sum(), brand_df))[0]\n",
    "brand_df['pedidos_online'] = list(map(lambda x: transaction_df.loc[transaction_df[\"online_order\"]==True].loc[transaction_df[\"brand\"]==x].count()[0], transaction_df[\"brand\"].unique()))\n",
    "brand_df['%_online'] = list(map(lambda x: brand_df.iloc[x]['pedidos_online'] / brand_df.iloc[x]['frecuencia']*100, range(brand_df.shape[0])))\n",
    "brand_df['pedidos_aprob'] = list(map(lambda x: transaction_df.loc[transaction_df[\"order_status\"]==\"Approved\"].loc[transaction_df[\"brand\"]==x].count()[0], transaction_df[\"brand\"].unique()))\n",
    "brand_df['pedidos_cancel'] = list(map(lambda x: transaction_df.loc[transaction_df[\"order_status\"]==\"Cancelled\"].loc[transaction_df[\"brand\"]==x].count()[0], transaction_df[\"brand\"].unique()))\n",
    "brand_df['%_cancelados'] = list(map(lambda x: brand_df.iloc[x]['pedidos_cancel'] / brand_df.iloc[x]['frecuencia']*100, range(brand_df.shape[0])))\n",
    "brand_df"
   ]
  },
  {
   "cell_type": "code",
   "execution_count": null,
   "id": "78f9ddab",
   "metadata": {
    "scrolled": true
   },
   "outputs": [],
   "source": [
    "pd.concat([brand_df, pd.DataFrame([[brand_df['frecuencia'].sum(), brand_df['frecuencia_relativa'].sum(), brand_df['pedidos_online'].sum(), brand_df['pedidos_online'].sum()/brand_df['frecuencia'].sum()*100, brand_df['pedidos_aprob'].sum(), brand_df['pedidos_cancel'].sum(), brand_df['pedidos_cancel'].sum()/brand_df['frecuencia'].sum()*100]], columns=list(brand_df.columns.values), index=['Total'])])"
   ]
  },
  {
   "cell_type": "markdown",
   "id": "64a7315f",
   "metadata": {},
   "source": [
    "#  "
   ]
  },
  {
   "cell_type": "markdown",
   "id": "7d870a48",
   "metadata": {},
   "source": [
    "#  "
   ]
  },
  {
   "cell_type": "markdown",
   "id": "0e1861fa",
   "metadata": {},
   "source": [
    "# Parte entregable"
   ]
  },
  {
   "cell_type": "code",
   "execution_count": null,
   "id": "3c146cd5",
   "metadata": {},
   "outputs": [],
   "source": [
    "ax_00 = sns.kdeplot(data=transaction_df, x=\"list_price\", bw_adjust = 1.7, cut = 0, palette=\"crest\")\n",
    "ax_00 = ax_00.legend(labels=[\"High\"])\n",
    "plt.savefig('images/ax_00.svg', format='svg', dpi=1200)"
   ]
  },
  {
   "cell_type": "code",
   "execution_count": null,
   "id": "ff7ad850",
   "metadata": {},
   "outputs": [],
   "source": [
    "ax_01 = sns.kdeplot(data=transaction_df.loc[transaction_df[\"product_class\"]==\"high\"], x=\"list_price\", bw_adjust = 1.7, cut = 0, palette=\"crest\")\n",
    "ax_01 = sns.kdeplot(data=transaction_df.loc[transaction_df[\"product_class\"]==\"medium\"], x=\"list_price\", bw_adjust = 1.7, cut = 0, palette=\"crest\")\n",
    "ax_01 = sns.kdeplot(data=transaction_df.loc[transaction_df[\"product_class\"]==\"low\"], x=\"list_price\", bw_adjust = 1.7, cut = 0, palette=\"crest\")\n",
    "ax_01 = ax_01.legend(labels=[\"High\", \"Medium\", \"Low\"])\n",
    "plt.savefig('images/ax_01.svg', format='svg', dpi=1200)"
   ]
  },
  {
   "cell_type": "code",
   "execution_count": null,
   "id": "c83542e7",
   "metadata": {},
   "outputs": [],
   "source": [
    "plt.figure(figsize=(12, 6))\n",
    "\n",
    "ax_02 = sns.kdeplot(data=transaction_df.loc[transaction_df[\"product_class\"]==\"high\"].loc[transaction_df[\"product_size\"]==\"large\"], x=\"list_price\", bw_adjust = 1.7, cut = 0, palette=\"crest\")\n",
    "ax_02 = sns.kdeplot(data=transaction_df.loc[transaction_df[\"product_class\"]==\"high\"].loc[transaction_df[\"product_size\"]==\"medium\"], x=\"list_price\", bw_adjust = 1.7, cut = 0, palette=\"crest\")\n",
    "ax_02 = sns.kdeplot(data=transaction_df.loc[transaction_df[\"product_class\"]==\"high\"].loc[transaction_df[\"product_size\"]==\"small\"], x=\"list_price\", bw_adjust = 1.7, cut = 0, palette=\"crest\")\n",
    "\n",
    "ax_02 = sns.kdeplot(data=transaction_df.loc[transaction_df[\"product_class\"]==\"medium\"].loc[transaction_df[\"product_size\"]==\"large\"], x=\"list_price\", bw_adjust = 1.7, cut = 0, palette=\"crest\")\n",
    "ax_02 = sns.kdeplot(data=transaction_df.loc[transaction_df[\"product_class\"]==\"medium\"].loc[transaction_df[\"product_size\"]==\"medium\"], x=\"list_price\", bw_adjust = 1.7, cut = 0, palette=\"crest\")\n",
    "ax_02 = sns.kdeplot(data=transaction_df.loc[transaction_df[\"product_class\"]==\"medium\"].loc[transaction_df[\"product_size\"]==\"small\"], x=\"list_price\", bw_adjust = 1.7, cut = 0, palette=\"crest\")\n",
    "\n",
    "ax_02 = sns.kdeplot(data=transaction_df.loc[transaction_df[\"product_class\"]==\"low\"].loc[transaction_df[\"product_size\"]==\"large\"], x=\"list_price\", bw_adjust = 1.7, cut = 0, palette=\"crest\")\n",
    "ax_02 = sns.kdeplot(data=transaction_df.loc[transaction_df[\"product_class\"]==\"low\"].loc[transaction_df[\"product_size\"]==\"medium\"], x=\"list_price\", bw_adjust = 1.7, cut = 0, palette=\"crest\")\n",
    "ax_02 = sns.kdeplot(data=transaction_df.loc[transaction_df[\"product_class\"]==\"low\"].loc[transaction_df[\"product_size\"]==\"small\"], x=\"list_price\", bw_adjust = 1.7, cut = 0, palette=\"crest\")\n",
    "\n",
    "ax_02 = ax_02.legend(labels=[\"High-Large\", \"High-Medium\", \"High-Small\", \"Medium-Large\", \"Medium-Medium\", \"Medium-Small\", \"Low-Large\", \"Low-Medium\", \"Low-Small\"])\n",
    "\n",
    "plt.savefig('images/ax_02.svg', format='svg', dpi=1200)"
   ]
  },
  {
   "cell_type": "code",
   "execution_count": null,
   "id": "d17f6b0a",
   "metadata": {},
   "outputs": [],
   "source": [
    "plt.figure(figsize=(12, 6))\n",
    "sns.set_style(\"whitegrid\")\n",
    "ax_03 = sns.boxplot(x = \"product_class\", y = \"list_price\", hue=\"product_size\", data=transaction_df, order=['low', 'medium', 'high'], hue_order=['small', 'medium', 'large'])\n",
    "ax_03 = ax_03.legend(loc='upper left')\n",
    "\n",
    "plt.savefig('images/ax_03.svg', format='svg', dpi=1200)"
   ]
  },
  {
   "cell_type": "code",
   "execution_count": null,
   "id": "0e55d81a",
   "metadata": {},
   "outputs": [],
   "source": [
    "plt.figure(figsize=(12, 6))\n",
    "ax_04 = sns.histplot(x=prod_cus['prod_per_customer'], kde=True, discrete=True, kde_kws={'bw_adjust': 1.5})\n",
    "plt.savefig('images/ax_04.svg', format='svg', dpi=1200)"
   ]
  },
  {
   "cell_type": "code",
   "execution_count": 54,
   "id": "ce5daa0c",
   "metadata": {
    "scrolled": false
   },
   "outputs": [
    {
     "data": {
      "image/png": "[encoded data removed]",
      "text/plain": [
       "<Figure size 720x288 with 1 Axes>"
      ]
     },
     "metadata": {
      "needs_background": "light"
     },
     "output_type": "display_data"
    }
   ],
   "source": [
    "plt.figure(figsize=(10, 4))\n",
    "ax_05 = sns.barplot(x=brand_df.index[0:5], y=brand_df.frecuencia[0:5], palette=['blue'], alpha=0.55)\n",
    "ax_05 = sns.barplot(x=brand_df.index[0:5], y=brand_df.pedidos_online[0:5], palette=['green'], alpha=0.55)\n",
    "ax_05.legend(handles=[green_patch, blue_patch])\n",
    "plt.savefig('images/ax_05.svg', format='svg', dpi=1200)"
   ]
  },
  {
   "cell_type": "code",
   "execution_count": 53,
   "id": "be16284c",
   "metadata": {},
   "outputs": [],
   "source": [
    "import matplotlib.patches as mpatches\n",
    "import matplotlib.pyplot as plt\n",
    "\n",
    "\n",
    "green_patch = mpatches.Patch(color='green', alpha=0.55, label='Pedidos offline')\n",
    "blue_patch = mpatches.Patch(color='blue', alpha=0.55, label='Pedidos online')"
   ]
  },
  {
   "cell_type": "code",
   "execution_count": 10,
   "id": "aea4136d",
   "metadata": {},
   "outputs": [
    {
     "name": "stdout",
     "output_type": "stream",
     "text": [
      "1107.3371931087943\n",
      "1138.151627906977\n"
     ]
    },
    {
     "data": {
      "text/plain": [
       "Ttest_indResult(statistic=-0.690745511655135, pvalue=0.48973365668959756)"
      ]
     },
     "execution_count": 10,
     "metadata": {},
     "output_type": "execute_result"
    }
   ],
   "source": [
    "print(transaction_df['list_price'].mean())\n",
    "print(transaction_df['list_price'].loc[transaction_df.order_status == 'Cancelled'].mean())\n",
    "\n",
    "stats.ttest_ind(transaction_df['list_price'], transaction_df['list_price'].loc[transaction_df.order_status == 'Cancelled'])"
   ]
  },
  {
   "cell_type": "markdown",
   "id": "64d7848a",
   "metadata": {},
   "source": [
    "# Backup block"
   ]
  },
  {
   "cell_type": "code",
   "execution_count": 1,
   "id": "52a48219",
   "metadata": {},
   "outputs": [
    {
     "name": "stdout",
     "output_type": "stream",
     "text": [
      "transaction_id                      int64\n",
      "product_id                          int64\n",
      "customer_id                         int64\n",
      "transaction_date           datetime64[ns]\n",
      "online_order                      float64\n",
      "order_status                       object\n",
      "brand                              object\n",
      "product_line                       object\n",
      "product_class                      object\n",
      "product_size                       object\n",
      "list_price                        float64\n",
      "standard_cost                     float64\n",
      "product_first_sold_date           float64\n",
      "dtype: object\n",
      "Valores perdidos iniciales: 1542\n",
      "Valores perdidos posteriores: 1148\n",
      "Valores NaN restantes: 0\n"
     ]
    }
   ],
   "source": [
    "import datetime as dt\n",
    "import matplotlib.pyplot as plt\n",
    "%matplotlib inline\n",
    "import missingno as msno\n",
    "import numpy as np\n",
    "import pandas as pd\n",
    "import seaborn as sns\n",
    "from scipy import stats\n",
    "from statsmodels.graphics.gofplots import qqplot\n",
    "from textwrap import wrap\n",
    "\n",
    "\n",
    "\n",
    "# Load dataset\n",
    "transaction_df = pd.read_excel('KPMG_VI_New_raw_data_update_final.xlsx', 'Transactions', skiprows=[0])\n",
    "# View data\n",
    "print(transaction_df.dtypes)\n",
    "transaction_df\n",
    "\n",
    "\n",
    "\n",
    "# online_order se trata de una variable boobleana y, sin embargo, consta como float.\n",
    "# Se cambia el tipo de la columna\n",
    "transaction_df.online_order = transaction_df.online_order.astype('object')\n",
    "\n",
    "# Comprobar valores nulos en el dataset\n",
    "print(f\"Valores perdidos iniciales: {transaction_df.isnull().values.sum()}\")\n",
    "\n",
    "# Reemplazar huecos \" \" por NaN.\n",
    "transaction_df = transaction_df.replace(\" \",np.NaN)\n",
    "\n",
    "# # Reemplazar valores numéricos perdidos por el valor medio de la columna\n",
    "# transaction_df = transaction_df.fillna(transaction_df.mean(numeric_only=True))\n",
    "\n",
    "# Interpolar valores númericos perdidos\n",
    "lambda_col_nan = lambda column: column.interpolate() if column.dtypes == 'float64' else column\n",
    "transaction_df = transaction_df.apply(lambda_col_nan, axis=0)\n",
    "\n",
    "print(f\"Valores perdidos posteriores: {transaction_df.isnull().values.sum()}\")\n",
    "# Limpiar función lambda \"lambda_col_nan\"\n",
    "del lambda_col_nan\n",
    "\n",
    "\n",
    "\n",
    "# Reemplazar NaN de valores no númericos por los valores más comunes de la misma columna\n",
    "# lambda_col_nan = lambda column: column.fillna(column.value_counts().index[0]) if column.dtypes == 'object' else column\n",
    "# transaction_df = transaction_df.apply(lambda_col_nan, axis=0)\n",
    "\n",
    "# Eliminar valores categóricos perdidos\n",
    "transaction_df = transaction_df.dropna(axis=0)\n",
    "\n",
    "# Mostrar valores NaN\n",
    "print(f\"Valores NaN restantes: {transaction_df.isnull().values.sum()}\")\n",
    "\n",
    "\n",
    "\n",
    "# Añadir columna con el número total de productos comprados por cliente\n",
    "\n",
    "# transaction_df = transaction_df.sort_values(by=['customer_id'])\n",
    "transaction_df['prod_per_customer'] = list(map(lambda x: transaction_df.loc[transaction_df['customer_id']==x]['customer_id'].shape[0], transaction_df['customer_id']))\n",
    "\n",
    "\n",
    "\n",
    "brand_df = pd.DataFrame()\n",
    "brand_df['frecuencia'] = transaction_df.brand.value_counts()\n",
    "brand_df['frecuencia_relativa'] = list(map(lambda x: brand_df[x] / brand_df['frecuencia'].sum(), brand_df))[0]\n",
    "brand_df['pedidos_online'] = list(map(lambda x: transaction_df.loc[transaction_df[\"online_order\"]==True].loc[transaction_df[\"brand\"]==x].count()[0], transaction_df[\"brand\"].unique()))\n",
    "brand_df['%_online'] = list(map(lambda x: brand_df.iloc[x]['pedidos_online'] / brand_df.iloc[x]['frecuencia']*100, range(brand_df.shape[0])))\n",
    "brand_df['pedidos_aprob'] = list(map(lambda x: transaction_df.loc[transaction_df[\"order_status\"]==\"Approved\"].loc[transaction_df[\"brand\"]==x].count()[0], transaction_df[\"brand\"].unique()))\n",
    "brand_df['pedidos_cancel'] = list(map(lambda x: transaction_df.loc[transaction_df[\"order_status\"]==\"Cancelled\"].loc[transaction_df[\"brand\"]==x].count()[0], transaction_df[\"brand\"].unique()))\n",
    "brand_df['%_cancelados'] = list(map(lambda x: brand_df.iloc[x]['pedidos_cancel'] / brand_df.iloc[x]['frecuencia']*100, range(brand_df.shape[0])))\n",
    "brand_df = pd.concat([brand_df, pd.DataFrame([[brand_df['frecuencia'].sum(), brand_df['frecuencia_relativa'].sum(), brand_df['pedidos_online'].sum(), brand_df['pedidos_online'].sum()/brand_df['frecuencia'].sum()*100, brand_df['pedidos_aprob'].sum(), brand_df['pedidos_cancel'].sum(), brand_df['pedidos_cancel'].sum()/brand_df['frecuencia'].sum()*100]], columns=list(brand_df.columns.values), index=['Total'])])\n",
    "brand_df\n",
    "\n",
    "\n",
    "\n",
    "prod_cus = transaction_df[['customer_id', 'prod_per_customer']]\n",
    "prod_cus = prod_cus.sort_values(by=['customer_id'])\n",
    "prod_cus = prod_cus.drop_duplicates(subset=['customer_id'])"
   ]
  },
  {
   "cell_type": "markdown",
   "id": "baff8bb2",
   "metadata": {},
   "source": [
    "           transaction_id  product_id  customer_id transaction_date online_order  \\\n",
    "    0                   1           2         2950       2017-02-25          0.0   \n",
    "    1                   2           3         3120       2017-05-21          1.0   \n",
    "    2                   3          37          402       2017-10-16          0.0   \n",
    "    3                   4          88         3135       2017-08-31          0.0   \n",
    "    4                   5          78          787       2017-10-01          1.0   \n",
    "    ...               ...         ...          ...              ...          ...   \n",
    "    19995           19996          51         1018       2017-06-24          1.0   \n",
    "    19996           19997          41          127       2017-11-09          1.0   \n",
    "    19997           19998          87         2284       2017-04-14          1.0   \n",
    "    19998           19999           6         2764       2017-07-03          0.0   \n",
    "    19999           20000          11         1144       2017-09-22          1.0   \n",
    "    \n",
    "          order_status           brand product_line product_class product_size  \\\n",
    "    0         Approved           Solex     Standard        medium       medium   \n",
    "    1         Approved   Trek Bicycles     Standard        medium        large   \n",
    "    2         Approved      OHM Cycles     Standard           low       medium   \n",
    "    3         Approved  Norco Bicycles     Standard        medium       medium   \n",
    "    4         Approved  Giant Bicycles     Standard        medium        large   \n",
    "    ...            ...             ...          ...           ...          ...   \n",
    "    19995     Approved      OHM Cycles     Standard          high       medium   \n",
    "    19996     Approved           Solex         Road        medium       medium   \n",
    "    19997     Approved      OHM Cycles     Standard        medium       medium   \n",
    "    19998     Approved      OHM Cycles     Standard          high       medium   \n",
    "    19999     Approved   Trek Bicycles     Standard        medium        small   \n",
    "    \n",
    "           list_price  standard_cost  product_first_sold_date  prod_per_customer  \n",
    "    0           71.49          53.62                  41245.0                  3  \n",
    "    1         2091.47         388.92                  41701.0                  7  \n",
    "    2         1793.43         248.82                  36361.0                  6  \n",
    "    3         1198.46         381.10                  36145.0                  7  \n",
    "    4         1765.30         709.48                  42226.0                 10  \n",
    "    ...           ...            ...                      ...                ...  \n",
    "    19995     2005.66        1203.40                  37823.0                  5  \n",
    "    19996      416.98         312.74                  35560.0                 10  \n",
    "    19997     1636.90          44.71                  40410.0                  7  \n",
    "    19998      227.88         136.73                  38216.0                  3  \n",
    "    19999     1775.81        1580.47                  36334.0                  7  \n",
    "    \n",
    "    [19445 rows x 14 columns]\n"
   ]
  }
 ],
 "metadata": {
  "kernelspec": {
   "display_name": "Python 3 (ipykernel)",
   "language": "python",
   "name": "python3"
  },
  "language_info": {
   "codemirror_mode": {
    "name": "ipython",
    "version": 3
   },
   "file_extension": ".py",
   "mimetype": "text/x-python",
   "name": "python",
   "nbconvert_exporter": "python",
   "pygments_lexer": "ipython3",
   "version": "3.8.12"
  }
 },
 "nbformat": 4,
 "nbformat_minor": 5
}
